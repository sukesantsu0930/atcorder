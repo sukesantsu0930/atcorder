{
 "cells": [
  {
   "cell_type": "code",
   "execution_count": 1,
   "id": "08b78ee7-8f7a-4284-b5f5-2fb65131a1c0",
   "metadata": {},
   "outputs": [
    {
     "name": "stdout",
     "output_type": "stream",
     "text": [
      "Hello world!!\n"
     ]
    }
   ],
   "source": [
    "print(\"Hello world!!\")"
   ]
  },
  {
   "cell_type": "code",
   "execution_count": 2,
   "id": "4d5782ae-6a68-44dd-8b8f-0d4a9580d6b4",
   "metadata": {},
   "outputs": [
    {
     "ename": "NameError",
     "evalue": "name 'He' is not defined",
     "output_type": "error",
     "traceback": [
      "\u001b[1;31m---------------------------------------------------------------------------\u001b[0m",
      "\u001b[1;31mNameError\u001b[0m                                 Traceback (most recent call last)",
      "Cell \u001b[1;32mIn[2], line 1\u001b[0m\n\u001b[1;32m----> 1\u001b[0m He\n",
      "\u001b[1;31mNameError\u001b[0m: name 'He' is not defined"
     ]
    }
   ],
   "source": [
    "He"
   ]
  },
  {
   "cell_type": "code",
   "execution_count": 3,
   "id": "a264871d-bd73-4baa-a46a-bc754e5bc174",
   "metadata": {},
   "outputs": [],
   "source": [
    "import re"
   ]
  },
  {
   "cell_type": "code",
   "execution_count": 4,
   "id": "28d22d41-54db-4091-9420-5ea6768d3651",
   "metadata": {},
   "outputs": [
    {
     "name": "stdout",
     "output_type": "stream",
     "text": [
      "123\n"
     ]
    }
   ],
   "source": [
    "result = re.match(\"[a-z]+.*(123)$\",\"a-123\")\n",
    "print(result.group(1))"
   ]
  },
  {
   "cell_type": "code",
   "execution_count": 5,
   "id": "688bdd94-592d-4fd9-81f1-5adf0510ccb7",
   "metadata": {},
   "outputs": [
    {
     "name": "stdout",
     "output_type": "stream",
     "text": [
      "1\n",
      "1\n",
      "2\n",
      "2\n",
      "3\n",
      "3\n",
      "4\n",
      "4\n",
      "5\n",
      "5\n",
      "6\n",
      "1\n",
      "2\n",
      "1\n",
      "3\n",
      "2\n",
      "4\n",
      "3\n",
      "5\n",
      "4\n",
      "6\n",
      "5\n",
      "7\n",
      "2\n",
      "3\n",
      "1\n",
      "4\n",
      "2\n",
      "5\n",
      "3\n",
      "6\n",
      "4\n",
      "7\n",
      "5\n",
      "8\n",
      "3\n",
      "4\n",
      "1\n",
      "5\n",
      "2\n",
      "6\n",
      "3\n",
      "7\n",
      "4\n",
      "8\n",
      "5\n",
      "9\n",
      "4\n",
      "5\n",
      "1\n",
      "6\n",
      "2\n",
      "7\n",
      "3\n",
      "8\n",
      "4\n",
      "9\n",
      "5\n",
      "10\n",
      "5\n",
      "done loop\n"
     ]
    }
   ],
   "source": [
    "for i in [1,2,3,4,5]:\n",
    "    print(i)\n",
    "    for j in [1,2,3,4,5]:\n",
    "        print(j)\n",
    "        print(i+j)\n",
    "    print(i)\n",
    "print(\"done loop\")"
   ]
  },
  {
   "cell_type": "code",
   "execution_count": 6,
   "id": "caf700b9-8307-4ab5-9b5e-eeeb7c62a940",
   "metadata": {},
   "outputs": [
    {
     "name": "stdout",
     "output_type": "stream",
     "text": [
      "2 14.0\n"
     ]
    }
   ],
   "source": [
    "print(2,4*3.5\n",
    "     )"
   ]
  },
  {
   "cell_type": "code",
   "execution_count": 7,
   "id": "8282f68c-c40e-4b4b-8ee9-1be847658b7d",
   "metadata": {},
   "outputs": [
    {
     "name": "stdout",
     "output_type": "stream",
     "text": [
      "14.700000000000001\n"
     ]
    }
   ],
   "source": [
    "print(4.2*3.5)"
   ]
  },
  {
   "cell_type": "code",
   "execution_count": 8,
   "id": "40d0ae57-7881-429e-bcae-9762386effaf",
   "metadata": {},
   "outputs": [],
   "source": [
    "s1=\"hhh\""
   ]
  },
  {
   "cell_type": "code",
   "execution_count": 9,
   "id": "5607f94c-84af-4b2d-9a68-bac97736c47f",
   "metadata": {},
   "outputs": [
    {
     "data": {
      "text/plain": [
       "'hhh'"
      ]
     },
     "execution_count": 9,
     "metadata": {},
     "output_type": "execute_result"
    }
   ],
   "source": [
    "s1"
   ]
  },
  {
   "cell_type": "code",
   "execution_count": 10,
   "id": "365d73ce-fcbf-49e3-ab2f-2f489977208d",
   "metadata": {},
   "outputs": [],
   "source": [
    "s2='Today\\'s topic'"
   ]
  },
  {
   "cell_type": "code",
   "execution_count": 11,
   "id": "d40efcc5-8dc7-4599-a092-5764b8970f33",
   "metadata": {},
   "outputs": [
    {
     "data": {
      "text/plain": [
       "\"Today's topic\""
      ]
     },
     "execution_count": 11,
     "metadata": {},
     "output_type": "execute_result"
    }
   ],
   "source": [
    "s2\n"
   ]
  },
  {
   "cell_type": "code",
   "execution_count": 1,
   "id": "88a25a39-839d-4429-bff4-b0c0f7ad98f5",
   "metadata": {},
   "outputs": [],
   "source": [
    "import numpy as np"
   ]
  },
  {
   "cell_type": "code",
   "execution_count": 2,
   "id": "242a96af-8d73-4e46-bc79-0a113ce54d85",
   "metadata": {},
   "outputs": [
    {
     "name": "stderr",
     "output_type": "stream",
     "text": [
      "\n",
      "A module that was compiled using NumPy 1.x cannot be run in\n",
      "NumPy 2.0.2 as it may crash. To support both 1.x and 2.x\n",
      "versions of NumPy, modules must be compiled with NumPy 2.0.\n",
      "Some module may need to rebuild instead e.g. with 'pybind11>=2.12'.\n",
      "\n",
      "If you are a user of the module, the easiest solution will be to\n",
      "downgrade to 'numpy<2' or try to upgrade the affected module.\n",
      "We expect that some modules will need time to support NumPy 2.\n",
      "\n",
      "Traceback (most recent call last):  File \"<frozen runpy>\", line 198, in _run_module_as_main\n",
      "  File \"<frozen runpy>\", line 88, in _run_code\n",
      "  File \"C:\\Users\\sukedd23\\anaconda3\\Lib\\site-packages\\ipykernel_launcher.py\", line 17, in <module>\n",
      "    app.launch_new_instance()\n",
      "  File \"C:\\Users\\sukedd23\\anaconda3\\Lib\\site-packages\\traitlets\\config\\application.py\", line 1075, in launch_instance\n",
      "    app.start()\n",
      "  File \"C:\\Users\\sukedd23\\anaconda3\\Lib\\site-packages\\ipykernel\\kernelapp.py\", line 701, in start\n",
      "    self.io_loop.start()\n",
      "  File \"C:\\Users\\sukedd23\\anaconda3\\Lib\\site-packages\\tornado\\platform\\asyncio.py\", line 205, in start\n",
      "    self.asyncio_loop.run_forever()\n",
      "  File \"C:\\Users\\sukedd23\\anaconda3\\Lib\\asyncio\\windows_events.py\", line 322, in run_forever\n",
      "    super().run_forever()\n",
      "  File \"C:\\Users\\sukedd23\\anaconda3\\Lib\\asyncio\\base_events.py\", line 641, in run_forever\n",
      "    self._run_once()\n",
      "  File \"C:\\Users\\sukedd23\\anaconda3\\Lib\\asyncio\\base_events.py\", line 1987, in _run_once\n",
      "    handle._run()\n",
      "  File \"C:\\Users\\sukedd23\\anaconda3\\Lib\\asyncio\\events.py\", line 88, in _run\n",
      "    self._context.run(self._callback, *self._args)\n",
      "  File \"C:\\Users\\sukedd23\\anaconda3\\Lib\\site-packages\\ipykernel\\kernelbase.py\", line 534, in dispatch_queue\n",
      "    await self.process_one()\n",
      "  File \"C:\\Users\\sukedd23\\anaconda3\\Lib\\site-packages\\ipykernel\\kernelbase.py\", line 523, in process_one\n",
      "    await dispatch(*args)\n",
      "  File \"C:\\Users\\sukedd23\\anaconda3\\Lib\\site-packages\\ipykernel\\kernelbase.py\", line 429, in dispatch_shell\n",
      "    await result\n",
      "  File \"C:\\Users\\sukedd23\\anaconda3\\Lib\\site-packages\\ipykernel\\kernelbase.py\", line 767, in execute_request\n",
      "    reply_content = await reply_content\n",
      "  File \"C:\\Users\\sukedd23\\anaconda3\\Lib\\site-packages\\ipykernel\\ipkernel.py\", line 429, in do_execute\n",
      "    res = shell.run_cell(\n",
      "  File \"C:\\Users\\sukedd23\\anaconda3\\Lib\\site-packages\\ipykernel\\zmqshell.py\", line 549, in run_cell\n",
      "    return super().run_cell(*args, **kwargs)\n",
      "  File \"C:\\Users\\sukedd23\\anaconda3\\Lib\\site-packages\\IPython\\core\\interactiveshell.py\", line 3075, in run_cell\n",
      "    result = self._run_cell(\n",
      "  File \"C:\\Users\\sukedd23\\anaconda3\\Lib\\site-packages\\IPython\\core\\interactiveshell.py\", line 3130, in _run_cell\n",
      "    result = runner(coro)\n",
      "  File \"C:\\Users\\sukedd23\\anaconda3\\Lib\\site-packages\\IPython\\core\\async_helpers.py\", line 129, in _pseudo_sync_runner\n",
      "    coro.send(None)\n",
      "  File \"C:\\Users\\sukedd23\\anaconda3\\Lib\\site-packages\\IPython\\core\\interactiveshell.py\", line 3334, in run_cell_async\n",
      "    has_raised = await self.run_ast_nodes(code_ast.body, cell_name,\n",
      "  File \"C:\\Users\\sukedd23\\anaconda3\\Lib\\site-packages\\IPython\\core\\interactiveshell.py\", line 3517, in run_ast_nodes\n",
      "    if await self.run_code(code, result, async_=asy):\n",
      "  File \"C:\\Users\\sukedd23\\anaconda3\\Lib\\site-packages\\IPython\\core\\interactiveshell.py\", line 3577, in run_code\n",
      "    exec(code_obj, self.user_global_ns, self.user_ns)\n",
      "  File \"C:\\Users\\sukedd23\\AppData\\Local\\Temp\\ipykernel_15728\\322768712.py\", line 1, in <module>\n",
      "    import matplotlib.pyplot as plt\n",
      "  File \"C:\\Users\\sukedd23\\anaconda3\\Lib\\site-packages\\matplotlib\\__init__.py\", line 161, in <module>\n",
      "    from . import _api, _version, cbook, _docstring, rcsetup\n",
      "  File \"C:\\Users\\sukedd23\\anaconda3\\Lib\\site-packages\\matplotlib\\rcsetup.py\", line 27, in <module>\n",
      "    from matplotlib.colors import Colormap, is_color_like\n",
      "  File \"C:\\Users\\sukedd23\\anaconda3\\Lib\\site-packages\\matplotlib\\colors.py\", line 57, in <module>\n",
      "    from matplotlib import _api, _cm, cbook, scale\n",
      "  File \"C:\\Users\\sukedd23\\anaconda3\\Lib\\site-packages\\matplotlib\\scale.py\", line 22, in <module>\n",
      "    from matplotlib.ticker import (\n",
      "  File \"C:\\Users\\sukedd23\\anaconda3\\Lib\\site-packages\\matplotlib\\ticker.py\", line 143, in <module>\n",
      "    from matplotlib import transforms as mtransforms\n",
      "  File \"C:\\Users\\sukedd23\\anaconda3\\Lib\\site-packages\\matplotlib\\transforms.py\", line 49, in <module>\n",
      "    from matplotlib._path import (\n"
     ]
    },
    {
     "ename": "ImportError",
     "evalue": "\nA module that was compiled using NumPy 1.x cannot be run in\nNumPy 2.0.2 as it may crash. To support both 1.x and 2.x\nversions of NumPy, modules must be compiled with NumPy 2.0.\nSome module may need to rebuild instead e.g. with 'pybind11>=2.12'.\n\nIf you are a user of the module, the easiest solution will be to\ndowngrade to 'numpy<2' or try to upgrade the affected module.\nWe expect that some modules will need time to support NumPy 2.\n\n",
     "output_type": "error",
     "traceback": [
      "\u001b[1;31m---------------------------------------------------------------------------\u001b[0m",
      "\u001b[1;31mImportError\u001b[0m                               Traceback (most recent call last)",
      "File \u001b[1;32m~\\anaconda3\\Lib\\site-packages\\numpy\\core\\_multiarray_umath.py:44\u001b[0m, in \u001b[0;36m__getattr__\u001b[1;34m(attr_name)\u001b[0m\n\u001b[0;32m     39\u001b[0m     \u001b[38;5;66;03m# Also print the message (with traceback).  This is because old versions\u001b[39;00m\n\u001b[0;32m     40\u001b[0m     \u001b[38;5;66;03m# of NumPy unfortunately set up the import to replace (and hide) the\u001b[39;00m\n\u001b[0;32m     41\u001b[0m     \u001b[38;5;66;03m# error.  The traceback shouldn't be needed, but e.g. pytest plugins\u001b[39;00m\n\u001b[0;32m     42\u001b[0m     \u001b[38;5;66;03m# seem to swallow it and we should be failing anyway...\u001b[39;00m\n\u001b[0;32m     43\u001b[0m     sys\u001b[38;5;241m.\u001b[39mstderr\u001b[38;5;241m.\u001b[39mwrite(msg \u001b[38;5;241m+\u001b[39m tb_msg)\n\u001b[1;32m---> 44\u001b[0m     \u001b[38;5;28;01mraise\u001b[39;00m \u001b[38;5;167;01mImportError\u001b[39;00m(msg)\n\u001b[0;32m     46\u001b[0m ret \u001b[38;5;241m=\u001b[39m \u001b[38;5;28mgetattr\u001b[39m(_multiarray_umath, attr_name, \u001b[38;5;28;01mNone\u001b[39;00m)\n\u001b[0;32m     47\u001b[0m \u001b[38;5;28;01mif\u001b[39;00m ret \u001b[38;5;129;01mis\u001b[39;00m \u001b[38;5;28;01mNone\u001b[39;00m:\n",
      "\u001b[1;31mImportError\u001b[0m: \nA module that was compiled using NumPy 1.x cannot be run in\nNumPy 2.0.2 as it may crash. To support both 1.x and 2.x\nversions of NumPy, modules must be compiled with NumPy 2.0.\nSome module may need to rebuild instead e.g. with 'pybind11>=2.12'.\n\nIf you are a user of the module, the easiest solution will be to\ndowngrade to 'numpy<2' or try to upgrade the affected module.\nWe expect that some modules will need time to support NumPy 2.\n\n"
     ]
    },
    {
     "ename": "ImportError",
     "evalue": "numpy.core.multiarray failed to import",
     "output_type": "error",
     "traceback": [
      "\u001b[1;31m---------------------------------------------------------------------------\u001b[0m",
      "\u001b[1;31mImportError\u001b[0m                               Traceback (most recent call last)",
      "Cell \u001b[1;32mIn[2], line 1\u001b[0m\n\u001b[1;32m----> 1\u001b[0m \u001b[38;5;28;01mimport\u001b[39;00m \u001b[38;5;21;01mmatplotlib\u001b[39;00m\u001b[38;5;21;01m.\u001b[39;00m\u001b[38;5;21;01mpyplot\u001b[39;00m \u001b[38;5;28;01mas\u001b[39;00m \u001b[38;5;21;01mplt\u001b[39;00m\n",
      "File \u001b[1;32m~\\anaconda3\\Lib\\site-packages\\matplotlib\\__init__.py:161\u001b[0m\n\u001b[0;32m    157\u001b[0m \u001b[38;5;28;01mfrom\u001b[39;00m \u001b[38;5;21;01mpackaging\u001b[39;00m\u001b[38;5;21;01m.\u001b[39;00m\u001b[38;5;21;01mversion\u001b[39;00m \u001b[38;5;28;01mimport\u001b[39;00m parse \u001b[38;5;28;01mas\u001b[39;00m parse_version\n\u001b[0;32m    159\u001b[0m \u001b[38;5;66;03m# cbook must import matplotlib only within function\u001b[39;00m\n\u001b[0;32m    160\u001b[0m \u001b[38;5;66;03m# definitions, so it is safe to import from it here.\u001b[39;00m\n\u001b[1;32m--> 161\u001b[0m \u001b[38;5;28;01mfrom\u001b[39;00m \u001b[38;5;21;01m.\u001b[39;00m \u001b[38;5;28;01mimport\u001b[39;00m _api, _version, cbook, _docstring, rcsetup\n\u001b[0;32m    162\u001b[0m \u001b[38;5;28;01mfrom\u001b[39;00m \u001b[38;5;21;01mmatplotlib\u001b[39;00m\u001b[38;5;21;01m.\u001b[39;00m\u001b[38;5;21;01mcbook\u001b[39;00m \u001b[38;5;28;01mimport\u001b[39;00m sanitize_sequence\n\u001b[0;32m    163\u001b[0m \u001b[38;5;28;01mfrom\u001b[39;00m \u001b[38;5;21;01mmatplotlib\u001b[39;00m\u001b[38;5;21;01m.\u001b[39;00m\u001b[38;5;21;01m_api\u001b[39;00m \u001b[38;5;28;01mimport\u001b[39;00m MatplotlibDeprecationWarning\n",
      "File \u001b[1;32m~\\anaconda3\\Lib\\site-packages\\matplotlib\\rcsetup.py:27\u001b[0m\n\u001b[0;32m     25\u001b[0m \u001b[38;5;28;01mfrom\u001b[39;00m \u001b[38;5;21;01mmatplotlib\u001b[39;00m \u001b[38;5;28;01mimport\u001b[39;00m _api, cbook\n\u001b[0;32m     26\u001b[0m \u001b[38;5;28;01mfrom\u001b[39;00m \u001b[38;5;21;01mmatplotlib\u001b[39;00m\u001b[38;5;21;01m.\u001b[39;00m\u001b[38;5;21;01mcbook\u001b[39;00m \u001b[38;5;28;01mimport\u001b[39;00m ls_mapper\n\u001b[1;32m---> 27\u001b[0m \u001b[38;5;28;01mfrom\u001b[39;00m \u001b[38;5;21;01mmatplotlib\u001b[39;00m\u001b[38;5;21;01m.\u001b[39;00m\u001b[38;5;21;01mcolors\u001b[39;00m \u001b[38;5;28;01mimport\u001b[39;00m Colormap, is_color_like\n\u001b[0;32m     28\u001b[0m \u001b[38;5;28;01mfrom\u001b[39;00m \u001b[38;5;21;01mmatplotlib\u001b[39;00m\u001b[38;5;21;01m.\u001b[39;00m\u001b[38;5;21;01m_fontconfig_pattern\u001b[39;00m \u001b[38;5;28;01mimport\u001b[39;00m parse_fontconfig_pattern\n\u001b[0;32m     29\u001b[0m \u001b[38;5;28;01mfrom\u001b[39;00m \u001b[38;5;21;01mmatplotlib\u001b[39;00m\u001b[38;5;21;01m.\u001b[39;00m\u001b[38;5;21;01m_enums\u001b[39;00m \u001b[38;5;28;01mimport\u001b[39;00m JoinStyle, CapStyle\n",
      "File \u001b[1;32m~\\anaconda3\\Lib\\site-packages\\matplotlib\\colors.py:57\u001b[0m\n\u001b[0;32m     55\u001b[0m \u001b[38;5;28;01mimport\u001b[39;00m \u001b[38;5;21;01mmatplotlib\u001b[39;00m \u001b[38;5;28;01mas\u001b[39;00m \u001b[38;5;21;01mmpl\u001b[39;00m\n\u001b[0;32m     56\u001b[0m \u001b[38;5;28;01mimport\u001b[39;00m \u001b[38;5;21;01mnumpy\u001b[39;00m \u001b[38;5;28;01mas\u001b[39;00m \u001b[38;5;21;01mnp\u001b[39;00m\n\u001b[1;32m---> 57\u001b[0m \u001b[38;5;28;01mfrom\u001b[39;00m \u001b[38;5;21;01mmatplotlib\u001b[39;00m \u001b[38;5;28;01mimport\u001b[39;00m _api, _cm, cbook, scale\n\u001b[0;32m     58\u001b[0m \u001b[38;5;28;01mfrom\u001b[39;00m \u001b[38;5;21;01m.\u001b[39;00m\u001b[38;5;21;01m_color_data\u001b[39;00m \u001b[38;5;28;01mimport\u001b[39;00m BASE_COLORS, TABLEAU_COLORS, CSS4_COLORS, XKCD_COLORS\n\u001b[0;32m     61\u001b[0m \u001b[38;5;28;01mclass\u001b[39;00m \u001b[38;5;21;01m_ColorMapping\u001b[39;00m(\u001b[38;5;28mdict\u001b[39m):\n",
      "File \u001b[1;32m~\\anaconda3\\Lib\\site-packages\\matplotlib\\scale.py:22\u001b[0m\n\u001b[0;32m     20\u001b[0m \u001b[38;5;28;01mimport\u001b[39;00m \u001b[38;5;21;01mmatplotlib\u001b[39;00m \u001b[38;5;28;01mas\u001b[39;00m \u001b[38;5;21;01mmpl\u001b[39;00m\n\u001b[0;32m     21\u001b[0m \u001b[38;5;28;01mfrom\u001b[39;00m \u001b[38;5;21;01mmatplotlib\u001b[39;00m \u001b[38;5;28;01mimport\u001b[39;00m _api, _docstring\n\u001b[1;32m---> 22\u001b[0m \u001b[38;5;28;01mfrom\u001b[39;00m \u001b[38;5;21;01mmatplotlib\u001b[39;00m\u001b[38;5;21;01m.\u001b[39;00m\u001b[38;5;21;01mticker\u001b[39;00m \u001b[38;5;28;01mimport\u001b[39;00m (\n\u001b[0;32m     23\u001b[0m     NullFormatter, ScalarFormatter, LogFormatterSciNotation, LogitFormatter,\n\u001b[0;32m     24\u001b[0m     NullLocator, LogLocator, AutoLocator, AutoMinorLocator,\n\u001b[0;32m     25\u001b[0m     SymmetricalLogLocator, AsinhLocator, LogitLocator)\n\u001b[0;32m     26\u001b[0m \u001b[38;5;28;01mfrom\u001b[39;00m \u001b[38;5;21;01mmatplotlib\u001b[39;00m\u001b[38;5;21;01m.\u001b[39;00m\u001b[38;5;21;01mtransforms\u001b[39;00m \u001b[38;5;28;01mimport\u001b[39;00m Transform, IdentityTransform\n\u001b[0;32m     29\u001b[0m \u001b[38;5;28;01mclass\u001b[39;00m \u001b[38;5;21;01mScaleBase\u001b[39;00m:\n",
      "File \u001b[1;32m~\\anaconda3\\Lib\\site-packages\\matplotlib\\ticker.py:143\u001b[0m\n\u001b[0;32m    141\u001b[0m \u001b[38;5;28;01mimport\u001b[39;00m \u001b[38;5;21;01mmatplotlib\u001b[39;00m \u001b[38;5;28;01mas\u001b[39;00m \u001b[38;5;21;01mmpl\u001b[39;00m\n\u001b[0;32m    142\u001b[0m \u001b[38;5;28;01mfrom\u001b[39;00m \u001b[38;5;21;01mmatplotlib\u001b[39;00m \u001b[38;5;28;01mimport\u001b[39;00m _api, cbook\n\u001b[1;32m--> 143\u001b[0m \u001b[38;5;28;01mfrom\u001b[39;00m \u001b[38;5;21;01mmatplotlib\u001b[39;00m \u001b[38;5;28;01mimport\u001b[39;00m transforms \u001b[38;5;28;01mas\u001b[39;00m mtransforms\n\u001b[0;32m    145\u001b[0m _log \u001b[38;5;241m=\u001b[39m logging\u001b[38;5;241m.\u001b[39mgetLogger(\u001b[38;5;18m__name__\u001b[39m)\n\u001b[0;32m    147\u001b[0m __all__ \u001b[38;5;241m=\u001b[39m (\u001b[38;5;124m'\u001b[39m\u001b[38;5;124mTickHelper\u001b[39m\u001b[38;5;124m'\u001b[39m, \u001b[38;5;124m'\u001b[39m\u001b[38;5;124mFormatter\u001b[39m\u001b[38;5;124m'\u001b[39m, \u001b[38;5;124m'\u001b[39m\u001b[38;5;124mFixedFormatter\u001b[39m\u001b[38;5;124m'\u001b[39m,\n\u001b[0;32m    148\u001b[0m            \u001b[38;5;124m'\u001b[39m\u001b[38;5;124mNullFormatter\u001b[39m\u001b[38;5;124m'\u001b[39m, \u001b[38;5;124m'\u001b[39m\u001b[38;5;124mFuncFormatter\u001b[39m\u001b[38;5;124m'\u001b[39m, \u001b[38;5;124m'\u001b[39m\u001b[38;5;124mFormatStrFormatter\u001b[39m\u001b[38;5;124m'\u001b[39m,\n\u001b[0;32m    149\u001b[0m            \u001b[38;5;124m'\u001b[39m\u001b[38;5;124mStrMethodFormatter\u001b[39m\u001b[38;5;124m'\u001b[39m, \u001b[38;5;124m'\u001b[39m\u001b[38;5;124mScalarFormatter\u001b[39m\u001b[38;5;124m'\u001b[39m, \u001b[38;5;124m'\u001b[39m\u001b[38;5;124mLogFormatter\u001b[39m\u001b[38;5;124m'\u001b[39m,\n\u001b[1;32m   (...)\u001b[0m\n\u001b[0;32m    155\u001b[0m            \u001b[38;5;124m'\u001b[39m\u001b[38;5;124mMultipleLocator\u001b[39m\u001b[38;5;124m'\u001b[39m, \u001b[38;5;124m'\u001b[39m\u001b[38;5;124mMaxNLocator\u001b[39m\u001b[38;5;124m'\u001b[39m, \u001b[38;5;124m'\u001b[39m\u001b[38;5;124mAutoMinorLocator\u001b[39m\u001b[38;5;124m'\u001b[39m,\n\u001b[0;32m    156\u001b[0m            \u001b[38;5;124m'\u001b[39m\u001b[38;5;124mSymmetricalLogLocator\u001b[39m\u001b[38;5;124m'\u001b[39m, \u001b[38;5;124m'\u001b[39m\u001b[38;5;124mAsinhLocator\u001b[39m\u001b[38;5;124m'\u001b[39m, \u001b[38;5;124m'\u001b[39m\u001b[38;5;124mLogitLocator\u001b[39m\u001b[38;5;124m'\u001b[39m)\n",
      "File \u001b[1;32m~\\anaconda3\\Lib\\site-packages\\matplotlib\\transforms.py:49\u001b[0m\n\u001b[0;32m     46\u001b[0m \u001b[38;5;28;01mfrom\u001b[39;00m \u001b[38;5;21;01mnumpy\u001b[39;00m\u001b[38;5;21;01m.\u001b[39;00m\u001b[38;5;21;01mlinalg\u001b[39;00m \u001b[38;5;28;01mimport\u001b[39;00m inv\n\u001b[0;32m     48\u001b[0m \u001b[38;5;28;01mfrom\u001b[39;00m \u001b[38;5;21;01mmatplotlib\u001b[39;00m \u001b[38;5;28;01mimport\u001b[39;00m _api\n\u001b[1;32m---> 49\u001b[0m \u001b[38;5;28;01mfrom\u001b[39;00m \u001b[38;5;21;01mmatplotlib\u001b[39;00m\u001b[38;5;21;01m.\u001b[39;00m\u001b[38;5;21;01m_path\u001b[39;00m \u001b[38;5;28;01mimport\u001b[39;00m (\n\u001b[0;32m     50\u001b[0m     affine_transform, count_bboxes_overlapping_bbox, update_path_extents)\n\u001b[0;32m     51\u001b[0m \u001b[38;5;28;01mfrom\u001b[39;00m \u001b[38;5;21;01m.\u001b[39;00m\u001b[38;5;21;01mpath\u001b[39;00m \u001b[38;5;28;01mimport\u001b[39;00m Path\n\u001b[0;32m     53\u001b[0m DEBUG \u001b[38;5;241m=\u001b[39m \u001b[38;5;28;01mFalse\u001b[39;00m\n",
      "\u001b[1;31mImportError\u001b[0m: numpy.core.multiarray failed to import"
     ]
    }
   ],
   "source": [
    "import matplotlib.pyplot as plt"
   ]
  },
  {
   "cell_type": "code",
   "execution_count": 3,
   "id": "c3044d83-c708-478b-afb7-07b3221ee9f8",
   "metadata": {},
   "outputs": [
    {
     "name": "stdout",
     "output_type": "stream",
     "text": [
      "Hello world\n"
     ]
    }
   ],
   "source": [
    "print (\"Hello world\")"
   ]
  },
  {
   "cell_type": "code",
   "execution_count": 4,
   "id": "ca597ef9-689c-405e-8150-0546a4aeb1c5",
   "metadata": {},
   "outputs": [
    {
     "name": "stdout",
     "output_type": "stream",
     "text": [
      "8\n"
     ]
    }
   ],
   "source": [
    "num1 = 3\n",
    "num2 = 5\n",
    "\n",
    "print(num1+num2)"
   ]
  },
  {
   "cell_type": "code",
   "execution_count": 6,
   "id": "38011968-df67-48e8-b730-4b313c08f053",
   "metadata": {},
   "outputs": [
    {
     "name": "stdout",
     "output_type": "stream",
     "text": [
      "奇数\n"
     ]
    }
   ],
   "source": [
    "num = 7\n",
    "\n",
    "if num%2==0:\n",
    "    print(\"偶数\")\n",
    "else:\n",
    "    print(\"奇数\")"
   ]
  },
  {
   "cell_type": "code",
   "execution_count": 7,
   "id": "b87281ba-0e32-45c0-9e91-a2528e1bea17",
   "metadata": {},
   "outputs": [
    {
     "name": "stdout",
     "output_type": "stream",
     "text": [
      "3628800\n"
     ]
    }
   ],
   "source": [
    "a=1\n",
    "\n",
    "for i in range(10):\n",
    "    a*=i+1\n",
    "\n",
    "print(a)"
   ]
  },
  {
   "cell_type": "code",
   "execution_count": 21,
   "id": "12bb0fa1-40b5-4bf3-a4f6-5db01fa80110",
   "metadata": {},
   "outputs": [
    {
     "name": "stdout",
     "output_type": "stream",
     "text": [
      "  1　  2　  3　  4　  5　  6　  7　  8　  9　 10　\n",
      "\n",
      "  2　  4　  6　  8　 10　 12　 14　 16　 18　 20　\n",
      "\n",
      "  3　  6　  9　 12　 15　 18　 21　 24　 27　 30　\n",
      "\n",
      "  4　  8　 12　 16　 20　 24　 28　 32　 36　 40　\n",
      "\n",
      "  5　 10　 15　 20　 25　 30　 35　 40　 45　 50　\n",
      "\n",
      "  6　 12　 18　 24　 30　 36　 42　 48　 54　 60　\n",
      "\n",
      "  7　 14　 21　 28　 35　 42　 49　 56　 63　 70　\n",
      "\n",
      "  8　 16　 24　 32　 40　 48　 56　 64　 72　 80　\n",
      "\n",
      "  9　 18　 27　 36　 45　 54　 63　 72　 81　 90　\n",
      "\n",
      " 10　 20　 30　 40　 50　 60　 70　 80　 90　100　\n",
      "\n"
     ]
    }
   ],
   "source": [
    "for i in range(10):\n",
    "    for k in range(10):\n",
    "        print(f\"{(i+1)*(k+1):3}\",end=\"　\")\n",
    "    print(\"\\n\")"
   ]
  },
  {
   "cell_type": "code",
   "execution_count": 26,
   "id": "a405d804-94f5-47dc-ab8f-1a0b2c94f159",
   "metadata": {},
   "outputs": [
    {
     "name": "stdout",
     "output_type": "stream",
     "text": [
      "15\n"
     ]
    }
   ],
   "source": [
    "numbers = [1,2,3,4,5]\n",
    "\n",
    "print(sum(numbers))"
   ]
  },
  {
   "cell_type": "code",
   "execution_count": 31,
   "id": "058dcf96-4921-43ec-8d78-69e624dd19d1",
   "metadata": {},
   "outputs": [
    {
     "name": "stdout",
     "output_type": "stream",
     "text": [
      "2\n"
     ]
    }
   ],
   "source": [
    "text=\"hello world\"\n",
    "char=\"o\"\n",
    "\n",
    "print(text.count(char))"
   ]
  },
  {
   "cell_type": "code",
   "execution_count": 32,
   "id": "9c1127cb-1170-4ef0-9076-b61adc98dddd",
   "metadata": {},
   "outputs": [
    {
     "name": "stdout",
     "output_type": "stream",
     "text": [
      "1\n",
      "2\n",
      "3\n",
      "5\n",
      "8\n",
      "13\n",
      "21\n",
      "34\n",
      "55\n",
      "89\n"
     ]
    }
   ],
   "source": [
    "a=1\n",
    "b=1\n",
    "\n",
    "for i in range(10):\n",
    "    c=a+b\n",
    "    a=b\n",
    "    b=c\n",
    "    print(a)"
   ]
  },
  {
   "cell_type": "code",
   "execution_count": 34,
   "id": "015c61e3-a8ff-41a6-a59c-ca6a85b7d895",
   "metadata": {},
   "outputs": [
    {
     "name": "stdout",
     "output_type": "stream",
     "text": [
      "[0, 1, 1, 2, 3, 5, 8, 13, 21, 34]\n"
     ]
    }
   ],
   "source": [
    "def fibonach(n):\n",
    "    sequence=[0,1]\n",
    "    for _ in range(2,n):\n",
    "        sequence.append(sequence[-1]+sequence[-2])\n",
    "    return sequence\n",
    "\n",
    "print(fibonach(10))"
   ]
  },
  {
   "cell_type": "code",
   "execution_count": 40,
   "id": "6e3f1c16-8a9e-4148-bc11-c6d3808c1065",
   "metadata": {},
   "outputs": [
    {
     "name": "stdout",
     "output_type": "stream",
     "text": [
      "8\n"
     ]
    }
   ],
   "source": [
    "def Max(numbers):\n",
    "    for i in range(len(numbers)-1):\n",
    "        if numbers[i]<numbers[i+1]:\n",
    "            a=numbers[i+1]\n",
    "\n",
    "    return a\n",
    "\n",
    "\n",
    "numbers=[1,2,4,2,4,5,7,8]\n",
    "print(Max(numbers))"
   ]
  },
  {
   "cell_type": "code",
   "execution_count": 42,
   "id": "f119ae1a-db48-4a20-bf27-933abeab39af",
   "metadata": {},
   "outputs": [
    {
     "name": "stdout",
     "output_type": "stream",
     "text": [
      "5\n",
      "5\n"
     ]
    }
   ],
   "source": [
    "def Max(n):\n",
    "    return max(n)\n",
    "\n",
    "numbers=[3,5,3,5]\n",
    "print(Max(numbers))\n",
    "print(max(numbers))"
   ]
  },
  {
   "cell_type": "code",
   "execution_count": 45,
   "id": "6de692eb-0770-4009-a5cd-cd1c552f5623",
   "metadata": {},
   "outputs": [
    {
     "name": "stdout",
     "output_type": "stream",
     "text": [
      "nuf si nohtyP\n"
     ]
    }
   ],
   "source": [
    "text = \"Python is fun\"\n",
    "\n",
    "n=len(text)\n",
    "s=\"\"\n",
    "\n",
    "for i in range(n):\n",
    "    s+=text[-(i+1)]\n",
    "\n",
    "print(s)"
   ]
  },
  {
   "cell_type": "code",
   "execution_count": 48,
   "id": "b6c1c532-a8e2-4051-88ad-052393a3297d",
   "metadata": {},
   "outputs": [
    {
     "name": "stdout",
     "output_type": "stream",
     "text": [
      "s a fun is Python\n"
     ]
    }
   ],
   "source": [
    "text = \"Python is fun a s\"\n",
    "\n",
    "s=\" \".join(text.split()[::-1])\n",
    "print(s)"
   ]
  },
  {
   "cell_type": "code",
   "execution_count": 52,
   "id": "e6beeda1-d340-4a9f-bc2a-d46cb4d23f0a",
   "metadata": {},
   "outputs": [
    {
     "name": "stdout",
     "output_type": "stream",
     "text": [
      "w ,olleH\n"
     ]
    }
   ],
   "source": [
    "text = \"Hello, world!\"\n",
    "print(text[-6::-1])  # \"world\""
   ]
  },
  {
   "cell_type": "code",
   "execution_count": 54,
   "id": "458fda12-3d97-4b59-923b-60a61c0a292a",
   "metadata": {},
   "outputs": [
    {
     "name": "stdout",
     "output_type": "stream",
     "text": [
      "world!! Hello\n"
     ]
    }
   ],
   "source": [
    "text=\"Hello world!!\"\n",
    "s=\" \".join(text.split()[::-1])\n",
    "print(s)"
   ]
  },
  {
   "cell_type": "code",
   "execution_count": 58,
   "id": "76cbf3eb-4bcd-4164-a960-552956febce4",
   "metadata": {},
   "outputs": [
    {
     "name": "stdout",
     "output_type": "stream",
     "text": [
      "15\n",
      "5\n",
      "50\n",
      "2.0\n"
     ]
    }
   ],
   "source": [
    "num1=10\n",
    "num2=5\n",
    "\n",
    "\n",
    "print(num1+num2)\n",
    "\n",
    "print(num1-num2)\n",
    "\n",
    "print(num1*num2)\n",
    "\n",
    "print(num1/num2)"
   ]
  },
  {
   "cell_type": "code",
   "execution_count": 71,
   "id": "3c9fd0d4-2a82-4b49-9034-5f92c7b345ab",
   "metadata": {},
   "outputs": [
    {
     "name": "stdout",
     "output_type": "stream",
     "text": [
      "91=a\n",
      "91\n"
     ]
    }
   ],
   "source": [
    "import random\n",
    "a=random.randint(1,100)\n",
    "print(str(a)+\"=a\")\n",
    "\n",
    "for i in range(1,100):\n",
    "    if i==a:\n",
    "        print(a)"
   ]
  },
  {
   "cell_type": "code",
   "execution_count": 78,
   "id": "686f43df-c293-4c0d-851d-70f3870d2408",
   "metadata": {},
   "outputs": [
    {
     "name": "stdout",
     "output_type": "stream",
     "text": [
      "あててみんしゃい\n"
     ]
    },
    {
     "name": "stdin",
     "output_type": "stream",
     "text": [
      "入力せい 4\n"
     ]
    },
    {
     "name": "stdout",
     "output_type": "stream",
     "text": [
      "ちいさい\n"
     ]
    },
    {
     "name": "stdin",
     "output_type": "stream",
     "text": [
      "入力せい 50\n"
     ]
    },
    {
     "name": "stdout",
     "output_type": "stream",
     "text": [
      "でかい！！\n"
     ]
    },
    {
     "name": "stdin",
     "output_type": "stream",
     "text": [
      "入力せい 35\n"
     ]
    },
    {
     "name": "stdout",
     "output_type": "stream",
     "text": [
      "でかい！！\n"
     ]
    },
    {
     "name": "stdin",
     "output_type": "stream",
     "text": [
      "入力せい 25\n"
     ]
    },
    {
     "name": "stdout",
     "output_type": "stream",
     "text": [
      "でかい！！\n"
     ]
    },
    {
     "name": "stdin",
     "output_type": "stream",
     "text": [
      "入力せい 13\n"
     ]
    },
    {
     "name": "stdout",
     "output_type": "stream",
     "text": [
      "ちいさい\n"
     ]
    },
    {
     "name": "stdin",
     "output_type": "stream",
     "text": [
      "入力せい 15\n"
     ]
    },
    {
     "name": "stdout",
     "output_type": "stream",
     "text": [
      "でかい！！\n"
     ]
    },
    {
     "name": "stdin",
     "output_type": "stream",
     "text": [
      "入力せい 14\n"
     ]
    },
    {
     "name": "stdout",
     "output_type": "stream",
     "text": [
      "正っ解！！\n"
     ]
    },
    {
     "ename": "NameError",
     "evalue": "name 'brerak' is not defined",
     "output_type": "error",
     "traceback": [
      "\u001b[1;31m---------------------------------------------------------------------------\u001b[0m",
      "\u001b[1;31mNameError\u001b[0m                                 Traceback (most recent call last)",
      "Cell \u001b[1;32mIn[78], line 17\u001b[0m\n\u001b[0;32m     12\u001b[0m         \u001b[38;5;28;01melse\u001b[39;00m:\n\u001b[0;32m     13\u001b[0m             \u001b[38;5;28mprint\u001b[39m(\u001b[38;5;124m\"\u001b[39m\u001b[38;5;124mちいさい\u001b[39m\u001b[38;5;124m\"\u001b[39m)\n\u001b[1;32m---> 17\u001b[0m number_guess()\n",
      "Cell \u001b[1;32mIn[78], line 9\u001b[0m, in \u001b[0;36mnumber_guess\u001b[1;34m()\u001b[0m\n\u001b[0;32m      7\u001b[0m \u001b[38;5;28;01mif\u001b[39;00m a\u001b[38;5;241m==\u001b[39mguess:\n\u001b[0;32m      8\u001b[0m     \u001b[38;5;28mprint\u001b[39m(\u001b[38;5;124m\"\u001b[39m\u001b[38;5;124m正っ解！！\u001b[39m\u001b[38;5;124m\"\u001b[39m)\n\u001b[1;32m----> 9\u001b[0m     brerak\n\u001b[0;32m     10\u001b[0m \u001b[38;5;28;01melif\u001b[39;00m guess\u001b[38;5;241m>\u001b[39ma:\n\u001b[0;32m     11\u001b[0m     \u001b[38;5;28mprint\u001b[39m(\u001b[38;5;124m\"\u001b[39m\u001b[38;5;124mでかい！！\u001b[39m\u001b[38;5;124m\"\u001b[39m)\n",
      "\u001b[1;31mNameError\u001b[0m: name 'brerak' is not defined"
     ]
    }
   ],
   "source": [
    "def number_guess():\n",
    "    a=random.randint(1,100)\n",
    "    print(\"あててみんしゃい\")\n",
    "\n",
    "    while True:\n",
    "        guess=int(input(\"入力せい\"))\n",
    "        if a==guess:\n",
    "            print(\"正っ解！！\")\n",
    "            break\n",
    "        elif guess>a:\n",
    "            print(\"でかい！！\")\n",
    "        else:\n",
    "            print(\"ちいさい\")\n",
    "\n",
    "\n",
    "\n",
    "number_guess()"
   ]
  },
  {
   "cell_type": "code",
   "execution_count": 90,
   "id": "9900622c-926d-482f-814c-737dc5609d6d",
   "metadata": {},
   "outputs": [
    {
     "name": "stdout",
     "output_type": "stream",
     "text": [
      "1 100\n",
      "50\n",
      "50 100\n",
      "75\n",
      "50 75\n",
      "62\n",
      "50 62\n",
      "56\n",
      "50 56\n",
      "53\n",
      "50 53\n",
      "51\n",
      "51 53\n",
      "52\n",
      "終了\n",
      "52\n"
     ]
    }
   ],
   "source": [
    "a=52\n",
    "low=1\n",
    "high=100\n",
    "attempts=0\n",
    "\n",
    "while True:\n",
    "    attempts+=1\n",
    "    mid=(low+high)//2\n",
    "    print(low,high)\n",
    "    print(mid)\n",
    "    if attempts>100:\n",
    "        print(\"なにか失敗\")\n",
    "        break\n",
    "\n",
    "    \n",
    "    if mid==a:\n",
    "        print(\"終了\")\n",
    "        print(a)\n",
    "        break\n",
    "    elif mid>a:\n",
    "        high=mid\n",
    "    else:\n",
    "        low=mid"
   ]
  },
  {
   "cell_type": "code",
   "execution_count": 92,
   "id": "546b248e-0250-40e0-b86e-813774398373",
   "metadata": {},
   "outputs": [
    {
     "name": "stdout",
     "output_type": "stream",
     "text": [
      "50.5\n",
      "50\n"
     ]
    }
   ],
   "source": [
    "a=50\n",
    "b=51\n",
    "c=(a+b)/2\n",
    "\n",
    "print(c)\n",
    "print(int(c))"
   ]
  },
  {
   "cell_type": "code",
   "execution_count": 108,
   "id": "435544d2-bc93-4b03-a841-ade007d4550a",
   "metadata": {},
   "outputs": [
    {
     "name": "stdout",
     "output_type": "stream",
     "text": [
      "終了\n",
      "1\n",
      "終了\n",
      "2\n",
      "終了\n",
      "3\n",
      "終了\n",
      "4\n",
      "終了\n",
      "5\n",
      "終了\n",
      "6\n",
      "終了\n",
      "7\n",
      "終了\n",
      "8\n",
      "終了\n",
      "9\n",
      "終了\n",
      "10\n",
      "終了\n",
      "11\n",
      "終了\n",
      "12\n",
      "終了\n",
      "13\n",
      "終了\n",
      "14\n",
      "終了\n",
      "15\n",
      "終了\n",
      "16\n",
      "終了\n",
      "17\n",
      "終了\n",
      "18\n",
      "終了\n",
      "19\n",
      "終了\n",
      "20\n",
      "終了\n",
      "21\n",
      "終了\n",
      "22\n",
      "終了\n",
      "23\n",
      "終了\n",
      "24\n",
      "終了\n",
      "25\n",
      "終了\n",
      "26\n",
      "終了\n",
      "27\n",
      "終了\n",
      "28\n",
      "終了\n",
      "29\n",
      "終了\n",
      "30\n",
      "終了\n",
      "31\n",
      "終了\n",
      "32\n",
      "終了\n",
      "33\n",
      "終了\n",
      "34\n",
      "終了\n",
      "35\n",
      "終了\n",
      "36\n",
      "終了\n",
      "37\n",
      "終了\n",
      "38\n",
      "終了\n",
      "39\n",
      "終了\n",
      "40\n",
      "終了\n",
      "41\n",
      "終了\n",
      "42\n",
      "終了\n",
      "43\n",
      "終了\n",
      "44\n",
      "終了\n",
      "45\n",
      "終了\n",
      "46\n",
      "終了\n",
      "47\n",
      "終了\n",
      "48\n",
      "終了\n",
      "49\n",
      "終了\n",
      "50\n",
      "終了\n",
      "51\n",
      "終了\n",
      "52\n",
      "終了\n",
      "53\n",
      "終了\n",
      "54\n",
      "終了\n",
      "55\n",
      "終了\n",
      "56\n",
      "終了\n",
      "57\n",
      "終了\n",
      "58\n",
      "終了\n",
      "59\n",
      "終了\n",
      "60\n",
      "終了\n",
      "61\n",
      "終了\n",
      "62\n",
      "終了\n",
      "63\n",
      "終了\n",
      "64\n",
      "終了\n",
      "65\n",
      "終了\n",
      "66\n",
      "終了\n",
      "67\n",
      "終了\n",
      "68\n",
      "終了\n",
      "69\n",
      "終了\n",
      "70\n",
      "終了\n",
      "71\n",
      "終了\n",
      "72\n",
      "終了\n",
      "73\n",
      "終了\n",
      "74\n",
      "終了\n",
      "75\n",
      "終了\n",
      "76\n",
      "終了\n",
      "77\n",
      "終了\n",
      "78\n",
      "終了\n",
      "79\n",
      "終了\n",
      "80\n",
      "終了\n",
      "81\n",
      "終了\n",
      "82\n",
      "終了\n",
      "83\n",
      "終了\n",
      "84\n",
      "終了\n",
      "85\n",
      "終了\n",
      "86\n",
      "終了\n",
      "87\n",
      "終了\n",
      "88\n",
      "終了\n",
      "89\n",
      "終了\n",
      "90\n",
      "終了\n",
      "91\n",
      "終了\n",
      "92\n",
      "終了\n",
      "93\n",
      "終了\n",
      "94\n",
      "終了\n",
      "95\n",
      "終了\n",
      "96\n",
      "終了\n",
      "97\n",
      "終了\n",
      "98\n",
      "終了\n",
      "99\n",
      "終了\n",
      "100\n"
     ]
    }
   ],
   "source": [
    "for i in range(1,101):\n",
    "    high=100\n",
    "    low=1\n",
    "    attempts=0\n",
    "    while True:\n",
    "        attempts+=1\n",
    "        if attempts>100:\n",
    "            print(\"なにか失敗\")\n",
    "            print(i)\n",
    "            break\n",
    "    \n",
    "        \n",
    "        if high==i:\n",
    "            print(\"終了\")\n",
    "            print(i)\n",
    "            break\n",
    "        elif int(low+high)/2>i:\n",
    "            high=int((low+high)/2)\n",
    "        else:\n",
    "            low=int((low+high)/2)"
   ]
  },
  {
   "cell_type": "code",
   "execution_count": 1,
   "id": "603c7c29-1855-4736-acd8-526a36e53c56",
   "metadata": {},
   "outputs": [
    {
     "ename": "NameError",
     "evalue": "name 'name' is not defined",
     "output_type": "error",
     "traceback": [
      "\u001b[1;31m---------------------------------------------------------------------------\u001b[0m",
      "\u001b[1;31mNameError\u001b[0m                                 Traceback (most recent call last)",
      "Cell \u001b[1;32mIn[1], line 1\u001b[0m\n\u001b[1;32m----> 1\u001b[0m name\n",
      "\u001b[1;31mNameError\u001b[0m: name 'name' is not defined"
     ]
    }
   ],
   "source": [
    "name"
   ]
  },
  {
   "cell_type": "code",
   "execution_count": 8,
   "id": "d00bd47e-7abf-4d5a-af94-ad4d17bcb26b",
   "metadata": {},
   "outputs": [
    {
     "name": "stdin",
     "output_type": "stream",
     "text": [
      " 2\n"
     ]
    },
    {
     "name": "stdout",
     "output_type": "stream",
     "text": [
      "4\n"
     ]
    }
   ],
   "source": [
    "N=input()\n",
    "\n",
    "print(pow(int(N),2))"
   ]
  },
  {
   "cell_type": "code",
   "execution_count": 16,
   "id": "e1139927-2628-4460-b763-09cdcf96bc03",
   "metadata": {},
   "outputs": [
    {
     "name": "stdin",
     "output_type": "stream",
     "text": [
      " 3\n",
      " 1\n",
      " 222\n",
      " 2\n",
      " 2\n"
     ]
    },
    {
     "name": "stdout",
     "output_type": "stream",
     "text": [
      "No\n"
     ]
    }
   ],
   "source": [
    "N=int(input())\n",
    "X=int(input())\n",
    "numbers=[]\n",
    "n=True\n",
    "\n",
    "for i in range(N):\n",
    "    m=int(input())\n",
    "    numbers.append(m)\n",
    "\n",
    "for i in range(N):\n",
    "    if(numbers[i]==X):\n",
    "        print(\"Yes\")\n",
    "        n=False\n",
    "        break\n",
    "\n",
    "if(n==True):\n",
    "    print(\"No\")\n",
    "        "
   ]
  },
  {
   "cell_type": "code",
   "execution_count": null,
   "id": "cdf414cd-77e3-465f-a880-eb36fa13d588",
   "metadata": {},
   "outputs": [],
   "source": [
    "N=int(input())\n",
    "K=int(input())\n",
    "P=[]\n",
    "Q=[]\n",
    "E=False\n",
    "\n",
    "for i in range(N):\n",
    "    n=int(input())\n",
    "    P.append(n)\n",
    "\n",
    "for i in range(N):\n",
    "    n=int(input())\n",
    "    Q.append(n)\n",
    "\n",
    "for i in range(N):\n",
    "    for k in range(N):\n",
    "        if(P[i]==Q[k]):\n",
    "            E=True\n",
    "            break\n",
    "        if(E):\n",
    "            break\n",
    "\n",
    "if(E):\n",
    "    print(\"Yes\")\n",
    "else:\n",
    "    print(\"No\")\n",
    "    "
   ]
  },
  {
   "cell_type": "code",
   "execution_count": 19,
   "id": "c8f3d724-126d-4e5e-bcaa-98211af99ea8",
   "metadata": {},
   "outputs": [
    {
     "ename": "ValueError",
     "evalue": "not enough values to unpack (expected 2, got 0)",
     "output_type": "error",
     "traceback": [
      "\u001b[1;31m---------------------------------------------------------------------------\u001b[0m",
      "\u001b[1;31mValueError\u001b[0m                                Traceback (most recent call last)",
      "Cell \u001b[1;32mIn[19], line 1\u001b[0m\n\u001b[1;32m----> 1\u001b[0m N,X\u001b[38;5;241m=\u001b[39m\u001b[38;5;28mmap\u001b[39m(\u001b[38;5;28mint\u001b[39m,\u001b[38;5;28minput\u001b[39m()\u001b[38;5;241m.\u001b[39msplit())\n\u001b[0;32m      2\u001b[0m A\u001b[38;5;241m=\u001b[39m\u001b[38;5;28mlist\u001b[39m(\u001b[38;5;28mmap\u001b[39m(\u001b[38;5;28mint\u001b[39m,\u001b[38;5;28minput\u001b[39m()\u001b[38;5;241m.\u001b[39msplit()))\n\u001b[0;32m      3\u001b[0m Answer\u001b[38;5;241m=\u001b[39m\u001b[38;5;28;01mFalse\u001b[39;00m\n",
      "\u001b[1;31mValueError\u001b[0m: not enough values to unpack (expected 2, got 0)"
     ]
    }
   ],
   "source": [
    "N,X=map(int,input().split())\n",
    "A=list(map(int,input().split()))\n",
    "Answer=False\n",
    "\n",
    "for i in range(N):\n",
    "    if(A[i]==X):\n",
    "        Answer=True\n",
    "        break\n",
    "\n",
    "if Answer:\n",
    "    print(\"Yes\")\n",
    "else:\n",
    "    print(\"No\")"
   ]
  },
  {
   "cell_type": "code",
   "execution_count": null,
   "id": "8cb303e5-b496-470a-a761-849aa1aed2d9",
   "metadata": {},
   "outputs": [],
   "source": []
  }
 ],
 "metadata": {
  "kernelspec": {
   "display_name": "Python 3 (ipykernel)",
   "language": "python",
   "name": "python3"
  },
  "language_info": {
   "codemirror_mode": {
    "name": "ipython",
    "version": 3
   },
   "file_extension": ".py",
   "mimetype": "text/x-python",
   "name": "python",
   "nbconvert_exporter": "python",
   "pygments_lexer": "ipython3",
   "version": "3.12.4"
  }
 },
 "nbformat": 4,
 "nbformat_minor": 5
}
